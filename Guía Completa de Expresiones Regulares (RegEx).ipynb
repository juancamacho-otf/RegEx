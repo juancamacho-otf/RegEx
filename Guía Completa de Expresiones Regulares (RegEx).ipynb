{
 "cells": [
  {
   "cell_type": "markdown",
   "metadata": {},
   "source": [
    "# 📖 Guía Completa de Expresiones Regulares (RegEx)"
   ]
  },
  {
   "cell_type": "markdown",
   "metadata": {},
   "source": [
    "### Las expresiones regulares son secuencias de caracteres que definen patrones de búsqueda en texto. Se utilizan en programación para validar entradas, extraer información o modificar cadenas de texto."
   ]
  },
  {
   "cell_type": "markdown",
   "metadata": {},
   "source": [
    "🔹 Metacaracteres básicos"
   ]
  },
  {
   "cell_type": "markdown",
   "metadata": {},
   "source": [
    "| **Metacaracter** | **Descripción** | **Ejemplo** |\n",
    "|---------------|--------------------|------------|\n",
    "| `^` | Busca al inicio de la línea. | `^Hola` en `\"Hola mundo\"` → ✅, en `\"Mundo Hola\"` → ❌ |\n",
    "| `$` | Busca al final de la línea. | `mundo$` en `\"Hola mundo\"` → ✅, en `\"mundo Hola\"` → ❌ |\n",
    "| `\\A` | Busca al inicio del texto. | `\\AHola` en `\"Hola mundo\"` → ✅ |\n",
    "| `\\z` | Busca al final del texto. | `adiós\\z` en `\"Dije adiós\"` → ✅ |\n",
    "| `.` | Cualquier carácter (menos saltos de línea). | `c.t` en `\"cat\"`, `\"cot\"`, `\"cut\"` → ✅ |\n",
    "| `\\b` | Encuentra una palabra exacta. | `\\bHola\\b` en `\"Hola\"` → ✅, en `\"Holanda\"` → ❌ |\n",
    "| `\\B` | Encuentra dentro de una palabra. | `\\Bola` en `\"hola\"` → ✅, en `\"ola\"` → ❌ |\n"
   ]
  },
  {
   "cell_type": "markdown",
   "metadata": {},
   "source": [
    "# 🔤 Clases de caracteres\n",
    "### Aquí buscamos letras, números y espacios de forma fácil."
   ]
  },
  {
   "cell_type": "markdown",
   "metadata": {},
   "source": [
    "| **Metacaracter** | **Descripción** | **Ejemplo** |\n",
    "|---------------|--------------------|------------|\n",
    "| `\\w` | Encuentra letras, números y guion bajo `_` | `\\w+` en `\"Hola123\"` → ✅ |\n",
    "| `\\W` | Encuentra símbolos especiales. | `\\W+` en `\"#$%@!\"` → ✅ |\n",
    "| `\\d` | Encuentra números (`0-9`). | `\\d+` en `\"123\"` → ✅ |\n",
    "| `\\D` | Encuentra lo que NO son números. | `\\D+` en `\"Hola\"` → ✅ |\n",
    "| `\\s` | Encuentra espacios, tabulaciones y saltos de línea. | `\\s+` en `\"Hola mundo\"` → ✅ |\n",
    "| `\\S` | Encuentra cualquier cosa que NO sea espacio. | `\\S+` en `\"Hola\"` → ✅ |\n"
   ]
  },
  {
   "cell_type": "markdown",
   "metadata": {},
   "source": [
    "📌 Ejemplo divertido:\n",
    "Expresión: \\d\\d:\\d\\d\n",
    "Busca: Hora en formato HH:MM\n",
    "✅ \"Son las 12:45\" → Encuentra \"12:45\""
   ]
  },
  {
   "cell_type": "markdown",
   "metadata": {},
   "source": [
    "# 🔢 Cuantificadores\n",
    "### Estos símbolos ayudan a decir cuántas veces debe aparecer algo."
   ]
  },
  {
   "cell_type": "markdown",
   "metadata": {},
   "source": [
    "| **Metacaracter** | **Descripción** | **Ejemplo** |\n",
    "|---------------|--------------------|------------|\n",
    "| `*` | Cero o más veces. | `ho*la` en `\"hla\"`, `\"hola\"`, `\"hooooola\"` → ✅ |\n",
    "| `+` | Una o más veces. | `ho+la` en `\"hola\"`, `\"hooooola\"` → ✅, en `\"hla\"` → ❌ |\n",
    "| `?` | Cero o una vez. | `colou?r` en `\"color\"`, `\"colour\"` → ✅ |\n",
    "| `{n}` | Exactamente `n` veces. | `\\d{4}` en `\"1999\"` → ✅, en `\"99\"` → ❌ |\n",
    "| `{n,}` | Al menos `n` veces. | `\\d{2,}` en `\"99\"`, `\"9999\"` → ✅ |\n",
    "| `{n,m}` | Entre `n` y `m` veces. | `\\d{2,4}` en `\"99\"`, `\"999\"`, `\"9999\"` → ✅ |\n",
    "| `*?` | Cero o más veces (modo no codicioso). | `\"ho*?\"` en `\"hooooola\"` encuentra `\"h\"`, no `\"hoooo\"`. |\n",
    "| `+?` | Una o más veces (modo no codicioso). | `\"ho+?\"` en `\"hooooola\"` encuentra `\"h\"` en lugar de `\"hoooo\"`. |\n"
   ]
  },
  {
   "cell_type": "markdown",
   "metadata": {},
   "source": [
    "📌 Ejemplo divertido:\n",
    "Expresión: \\d{2,4}\n",
    "Busca: Un número de 2 a 4 dígitos\n",
    "✅ \"1234\" → Encuentra \"1234\"\n",
    "✅ \"99\" → Encuentra \"99\""
   ]
  },
  {
   "cell_type": "markdown",
   "metadata": {},
   "source": [
    "🎯 Ejemplos prácticos"
   ]
  },
  {
   "cell_type": "markdown",
   "metadata": {},
   "source": [
    "1️⃣ Buscar una palabra en un texto"
   ]
  },
  {
   "cell_type": "code",
   "execution_count": 1,
   "metadata": {},
   "outputs": [
    {
     "ename": "SyntaxError",
     "evalue": "unexpected character after line continuation character (3012095290.py, line 1)",
     "output_type": "error",
     "traceback": [
      "\u001b[1;36m  Cell \u001b[1;32mIn[1], line 1\u001b[1;36m\u001b[0m\n\u001b[1;33m    \\bHola\\b\u001b[0m\n\u001b[1;37m     ^\u001b[0m\n\u001b[1;31mSyntaxError\u001b[0m\u001b[1;31m:\u001b[0m unexpected character after line continuation character\n"
     ]
    }
   ],
   "source": [
    "\\bHola\\b\n"
   ]
  },
  {
   "cell_type": "markdown",
   "metadata": {},
   "source": [
    "📌 Ejemplo: \"Hola, ¿cómo estás?\" → ✅\n",
    "❌ \"Holanda\" (No coincide porque no es la palabra exacta)."
   ]
  },
  {
   "cell_type": "markdown",
   "metadata": {},
   "source": []
  },
  {
   "cell_type": "markdown",
   "metadata": {},
   "source": [
    "2️⃣ Buscar un número de teléfono"
   ]
  },
  {
   "cell_type": "code",
   "execution_count": null,
   "metadata": {},
   "outputs": [],
   "source": [
    "\\d{3}-\\d{3}-\\d{4}\n"
   ]
  },
  {
   "cell_type": "markdown",
   "metadata": {},
   "source": [
    "📌 Ejemplo: \"Llama al 123-456-7890\" → ✅"
   ]
  },
  {
   "cell_type": "markdown",
   "metadata": {},
   "source": [
    "3️⃣ Validar correos electrónicos\n",
    "regex\n",
    "Copiar\n",
    "Editar\n"
   ]
  },
  {
   "cell_type": "code",
   "execution_count": null,
   "metadata": {},
   "outputs": [],
   "source": [
    "[A-Za-z0-9._%+-]+@[A-Za-z0-9.-]+\\.[A-Za-z]{2,}\n"
   ]
  },
  {
   "cell_type": "markdown",
   "metadata": {},
   "source": [
    "📌 Ejemplo:\n",
    "✅ \"correo@ejemplo.com\"\n",
    "❌ \"correo@ejemplo\" (Falta \".com\")"
   ]
  },
  {
   "cell_type": "markdown",
   "metadata": {},
   "source": [
    "4️⃣ Extraer hashtags de un texto"
   ]
  },
  {
   "cell_type": "code",
   "execution_count": null,
   "metadata": {},
   "outputs": [],
   "source": [
    "#\\w+"
   ]
  },
  {
   "cell_type": "markdown",
   "metadata": {},
   "source": [
    "📌 Ejemplo:\n",
    "✅ \"#RegEx #Programación #Código\" → Encuentra: #RegEx, #Programación, #Código"
   ]
  },
  {
   "cell_type": "markdown",
   "metadata": {},
   "source": [
    "5️⃣ Encontrar direcciones IP"
   ]
  },
  {
   "cell_type": "code",
   "execution_count": null,
   "metadata": {},
   "outputs": [],
   "source": [
    "\\b\\d{1,3}\\.\\d{1,3}\\.\\d{1,3}\\.\\d{1,3}\\b\n"
   ]
  },
  {
   "cell_type": "markdown",
   "metadata": {},
   "source": [
    "📌 Ejemplo:\n",
    "✅ \"La IP es 192.168.1.1\" → Encuentra \"192.168.1.1\""
   ]
  },
  {
   "cell_type": "markdown",
   "metadata": {},
   "source": [
    "6️⃣ Validar contraseñas seguras"
   ]
  },
  {
   "cell_type": "code",
   "execution_count": null,
   "metadata": {},
   "outputs": [],
   "source": [
    "^(?=.*[A-Z])(?=.*\\d)(?=.*[@$!%*?&])[A-Za-z\\d@$!%*?&]{8,}$\n"
   ]
  },
  {
   "cell_type": "markdown",
   "metadata": {},
   "source": [
    "📌 Ejemplo:\n",
    "✅ \"ClaveSegura1!\"\n",
    "❌ \"clave123\" (Falta mayúscula y símbolo especial)"
   ]
  },
  {
   "cell_type": "markdown",
   "metadata": {},
   "source": [
    "🎉 Conclusión\n",
    "Las expresiones regulares son herramientas poderosas para encontrar y validar texto de forma rápida y eficiente. 🦸‍♂️💻\n",
    "Si quieres más ejemplos o necesitas ayuda con una expresión en particular, dime qué quieres hacer y te ayudaré. 🚀"
   ]
  }
 ],
 "metadata": {
  "kernelspec": {
   "display_name": "Python 3",
   "language": "python",
   "name": "python3"
  },
  "language_info": {
   "codemirror_mode": {
    "name": "ipython",
    "version": 3
   },
   "file_extension": ".py",
   "mimetype": "text/x-python",
   "name": "python",
   "nbconvert_exporter": "python",
   "pygments_lexer": "ipython3",
   "version": "3.13.1"
  }
 },
 "nbformat": 4,
 "nbformat_minor": 2
}
