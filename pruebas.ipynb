{
 "cells": [
  {
   "cell_type": "code",
   "execution_count": 2,
   "metadata": {},
   "outputs": [],
   "source": [
    "import re"
   ]
  },
  {
   "cell_type": "markdown",
   "metadata": {},
   "source": [
    "sirve para uni espacios, entonces encuentea cualquier cosa en espacios y la une \n"
   ]
  },
  {
   "cell_type": "code",
   "execution_count": 5,
   "metadata": {},
   "outputs": [
    {
     "name": "stdout",
     "output_type": "stream",
     "text": [
      "Whitespace\n"
     ]
    }
   ],
   "source": [
    "str = \"W hi te  space\"\n",
    "newStr =\"\".join(str.split())\n",
    "print(newStr)"
   ]
  },
  {
   "cell_type": "code",
   "execution_count": 9,
   "metadata": {},
   "outputs": [
    {
     "data": {
      "text/plain": [
       "'12132'"
      ]
     },
     "execution_count": 9,
     "metadata": {},
     "output_type": "execute_result"
    }
   ],
   "source": [
    "p= ' 12132 '\n",
    "f= p.strip()\n",
    "f"
   ]
  },
  {
   "cell_type": "markdown",
   "metadata": {},
   "source": [
    "es mejor remplasar algun parametro ya que con eso podemos hacer lo siguiente con dos replace \n",
    "esta es la candidata para poder hacer el ejercicio"
   ]
  },
  {
   "cell_type": "code",
   "execution_count": 44,
   "metadata": {},
   "outputs": [],
   "source": [
    "s = \"0-030-456-730 \"\n",
    "\n",
    "# Replace all spaces in string with an empty string\n",
    "s = s.replace(\" \", \"\").replace(\"-\",\"\")\n",
    "s= s [2:]\n"
   ]
  },
  {
   "cell_type": "code",
   "execution_count": 45,
   "metadata": {},
   "outputs": [
    {
     "name": "stdout",
     "output_type": "stream",
     "text": [
      "noo\n"
     ]
    }
   ],
   "source": [
    "if s[0]==3:\n",
    "    print(f'(+57){s}')\n",
    "else:\n",
    "    print('noo')"
   ]
  },
  {
   "cell_type": "code",
   "execution_count": 46,
   "metadata": {},
   "outputs": [
    {
     "name": "stdout",
     "output_type": "stream",
     "text": [
      "f\n"
     ]
    }
   ],
   "source": [
    "if s == 3:\n",
    "    print(f'(57){s}')\n",
    "else:\n",
    "    print('f')"
   ]
  },
  {
   "cell_type": "code",
   "execution_count": 48,
   "metadata": {},
   "outputs": [
    {
     "data": {
      "text/plain": [
       "'3'"
      ]
     },
     "execution_count": 48,
     "metadata": {},
     "output_type": "execute_result"
    }
   ],
   "source": [
    "s[0]"
   ]
  },
  {
   "cell_type": "code",
   "execution_count": 5,
   "metadata": {},
   "outputs": [
    {
     "data": {
      "text/plain": [
       "'Call [NUMBER] or [NUMBER] for assistance.'"
      ]
     },
     "execution_count": 5,
     "metadata": {},
     "output_type": "execute_result"
    }
   ],
   "source": [
    "pattern = r'\\d+'\n",
    "replacement = '[NUMBER]'\n",
    "example = \"Call 3103567890 or 123 for assistance.\"\n",
    "re.sub(pattern, replacement, example)"
   ]
  },
  {
   "cell_type": "code",
   "execution_count": 64,
   "metadata": {},
   "outputs": [
    {
     "name": "stdout",
     "output_type": "stream",
     "text": [
      "['547-554-113']\n",
      "['547554113']\n"
     ]
    }
   ],
   "source": [
    "parametro = r'(\\d{3}-?\\d{3}-?\\d{3})'\n",
    "parametrop=r'(\\bext\\b)'\n",
    "example = '0-547-554-113 ext 4 can'\n",
    "extencion= example[-6:]\n",
    "resultado = re.findall(parametro, example)\n",
    "print(resultado)\n",
    "limpio = [re.sub(r'[- ]', '', r).lstrip('0') for r in resultado]\n",
    "type(limpio)\n",
    "print(limpio)"
   ]
  },
  {
   "cell_type": "code",
   "execution_count": 50,
   "metadata": {},
   "outputs": [
    {
     "name": "stdout",
     "output_type": "stream",
     "text": [
      "(+57)['547554113'] 4 can\n"
     ]
    }
   ],
   "source": [
    "if limpio[0]==3:\n",
    "    print(f'(+57){limpio}')\n",
    "else:\n",
    "    print(f'(+57){limpio}{extencion}')"
   ]
  },
  {
   "cell_type": "code",
   "execution_count": 51,
   "metadata": {},
   "outputs": [
    {
     "data": {
      "text/plain": [
       "' 4 can'"
      ]
     },
     "execution_count": 51,
     "metadata": {},
     "output_type": "execute_result"
    }
   ],
   "source": [
    "extencion= example[-6:]\n",
    "extencion"
   ]
  },
  {
   "cell_type": "code",
   "execution_count": null,
   "metadata": {},
   "outputs": [
    {
     "name": "stdout",
     "output_type": "stream",
     "text": [
      "Número limpio: 547554113\n",
      "Extensión: 4\n"
     ]
    }
   ],
   "source": [
    "import re\n",
    "\n",
    "# Expresiones regulares\n",
    "parametro = r'(\\d{3}-?\\d{3}-?\\d{3})'  # Para el número principal\n",
    "parametrop = r'\\bext\\b\\s*(\\d+)'  # Para encontrar \"ext\" seguido de un número\n",
    "\n",
    "# Texto de prueba\n",
    "example = '0-547-554-113 ext 4 can '\n",
    "\n",
    "# Buscar número principal\n",
    "resultado = re.findall(parametro, example)\n",
    "\n",
    "# Limpiar el número (quitar guiones y ceros al inicio)\n",
    "limpio = [re.sub(r'[- ]', '', r).lstrip('0') for r in resultado]\n",
    "\n",
    "# Buscar la extensión\n",
    "ext_match = re.search(parametrop, example)\n",
    "extencion = ext_match.group(1) \n",
    "numero_final = str(limpio[0]) \n",
    "# Imprimir resultados\n",
    "print(\"Número limpio:\", numero_final)  \n",
    "print(\"Extensión:\", extencion)   \n"
   ]
  },
  {
   "cell_type": "code",
   "execution_count": 91,
   "metadata": {},
   "outputs": [
    {
     "name": "stdout",
     "output_type": "stream",
     "text": [
      "(+55)547554113 ext 4\n"
     ]
    }
   ],
   "source": [
    "if str(numero_final).startswith(\"3\"):\n",
    "    print(f'(+57){numero_final} ext {extencion}')\n",
    "else:\n",
    "    print(f'(+55){numero_final} ext {extencion}')"
   ]
  },
  {
   "cell_type": "code",
   "execution_count": 98,
   "metadata": {},
   "outputs": [
    {
     "name": "stdout",
     "output_type": "stream",
     "text": [
      "(+57) 54755411 ext 4\n"
     ]
    }
   ],
   "source": [
    "sub1= numero_final[0:4]\n",
    "sub2=numero_final[4:8]\n",
    "print(\"(+57) \"+sub1 + sub2,\"ext \"+extencion)"
   ]
  },
  {
   "cell_type": "code",
   "execution_count": null,
   "metadata": {},
   "outputs": [],
   "source": [
    "5475 5411"
   ]
  }
 ],
 "metadata": {
  "kernelspec": {
   "display_name": "Python 3",
   "language": "python",
   "name": "python3"
  },
  "language_info": {
   "codemirror_mode": {
    "name": "ipython",
    "version": 3
   },
   "file_extension": ".py",
   "mimetype": "text/x-python",
   "name": "python",
   "nbconvert_exporter": "python",
   "pygments_lexer": "ipython3",
   "version": "3.13.1"
  }
 },
 "nbformat": 4,
 "nbformat_minor": 2
}
