{
 "cells": [
  {
   "cell_type": "markdown",
   "metadata": {},
   "source": [
    "🧵Challenge 1: Reverse a String\n"
   ]
  },
  {
   "cell_type": "code",
   "execution_count": 2,
   "metadata": {},
   "outputs": [],
   "source": [
    "def my_reversed(word: str)->str :\n",
    "    return word[::-1]"
   ]
  },
  {
   "cell_type": "code",
   "execution_count": 3,
   "metadata": {},
   "outputs": [
    {
     "data": {
      "text/plain": [
       "'sdrawkcab ekil skool txet siht woh rednow I'"
      ]
     },
     "execution_count": 3,
     "metadata": {},
     "output_type": "execute_result"
    }
   ],
   "source": [
    "my_reversed(\"I wonder how this text looks like backwards\")"
   ]
  },
  {
   "cell_type": "markdown",
   "metadata": {},
   "source": [
    "🔠Challenge 2: Count Vowels and Consonants"
   ]
  },
  {
   "cell_type": "code",
   "execution_count": 4,
   "metadata": {},
   "outputs": [],
   "source": [
    "def how_many(word: str) -> tuple[int, int]:\n",
    "    vocales=0\n",
    "    consonantes=0 \n",
    "    may=word.upper()\n",
    "    for x in may:\n",
    "        if x in 'A''E''I''O''U' :\n",
    "            vocales+=1\n",
    "        if x in 'B''C''D''F''G''H''J''K''L''M''N''Ñ''P''Q''R''S''T''V''X''Z''W''Y':\n",
    "            consonantes+=1\n",
    "    return 'vocales',vocales,'consonantes', consonantes\n"
   ]
  },
  {
   "cell_type": "code",
   "execution_count": 5,
   "metadata": {},
   "outputs": [
    {
     "data": {
      "text/plain": [
       "('vocales', 34, 'consonantes', 61)"
      ]
     },
     "execution_count": 5,
     "metadata": {},
     "output_type": "execute_result"
    }
   ],
   "source": [
    "how_many('%AWrite a function ---that counts the number of vowels and consonants in a string (ignoring non alphabetic characters.')"
   ]
  },
  {
   "cell_type": "markdown",
   "metadata": {},
   "source": [
    "🔍Challenge 3: Palindrome Check"
   ]
  },
  {
   "cell_type": "code",
   "execution_count": 6,
   "metadata": {},
   "outputs": [],
   "source": [
    "def palindrome(possible_palindrome: str )-> bool:\n",
    "    possible_palindrome =possible_palindrome.lower()\n",
    "    if possible_palindrome==possible_palindrome[::-1]:\n",
    "        return True\n",
    "    return False "
   ]
  },
  {
   "cell_type": "code",
   "execution_count": 9,
   "metadata": {},
   "outputs": [
    {
     "data": {
      "text/plain": [
       "True"
      ]
     },
     "execution_count": 9,
     "metadata": {},
     "output_type": "execute_result"
    }
   ],
   "source": [
    "palindrome('acurruca')"
   ]
  },
  {
   "cell_type": "markdown",
   "metadata": {},
   "source": [
    "🌟 Challenge 4: Format Phone Number"
   ]
  },
  {
   "cell_type": "code",
   "execution_count": 4,
   "metadata": {},
   "outputs": [],
   "source": [
    "import re"
   ]
  },
  {
   "cell_type": "code",
   "execution_count": 81,
   "metadata": {},
   "outputs": [],
   "source": [
    "def format_phone(phone_number: str, country: str) -> tuple[str, str]:\n",
    "    parametro = r'(\\d{3}-?\\d{3}-?\\d{3})' \n",
    "    parametrop= r'\\bext\\b\\s*(\\d+)'\n",
    "    country= country.lower()\n",
    "    resultado = re.findall(parametro, phone_number)\n",
    "    limpio = [re.sub(r'[- ]', '', r).lstrip('0') for r in resultado]\n",
    "    ext_match = re.search(parametrop, phone_number)\n",
    "    numero_final = str(limpio[0]) \n",
    "    extencion = ext_match.group(1)\n",
    "    sub1= numero_final[0:4]\n",
    "    sub2=numero_final[4:8] \n",
    "    if country=='colombia':\n",
    "        return[(\"(+57) \"+sub1+' '+sub2,\"ext \"+extencion)]\n",
    "    else:\n",
    "        return['(+55) '+sub1+' '+sub2,'ext '+ extencion]"
   ]
  },
  {
   "cell_type": "code",
   "execution_count": 82,
   "metadata": {},
   "outputs": [
    {
     "data": {
      "text/plain": [
       "[('(+57) 8045 6730', 'ext 88')]"
      ]
     },
     "execution_count": 82,
     "metadata": {},
     "output_type": "execute_result"
    }
   ],
   "source": [
    "format_phone('0-080-456-730 ext 88 ','Colombia')\n"
   ]
  },
  {
   "cell_type": "code",
   "execution_count": null,
   "metadata": {},
   "outputs": [],
   "source": []
  }
 ],
 "metadata": {
  "kernelspec": {
   "display_name": "Python 3",
   "language": "python",
   "name": "python3"
  },
  "language_info": {
   "codemirror_mode": {
    "name": "ipython",
    "version": 3
   },
   "file_extension": ".py",
   "mimetype": "text/x-python",
   "name": "python",
   "nbconvert_exporter": "python",
   "pygments_lexer": "ipython3",
   "version": "3.13.1"
  }
 },
 "nbformat": 4,
 "nbformat_minor": 2
}
